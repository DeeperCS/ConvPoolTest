{
 "cells": [
  {
   "cell_type": "markdown",
   "metadata": {},
   "source": [
    "### input dim: 3\n",
    "\n",
    "### kernel: 2\n",
    "### stride: 2\n",
    "\n",
    "### feature got: 2\n",
    "\n",
    "## Analysis:\n",
    "### pooling will automatically be padded\n"
   ]
  },
  {
   "cell_type": "code",
   "execution_count": 94,
   "metadata": {
    "collapsed": false
   },
   "outputs": [],
   "source": [
    "import sys\n",
    "import pdb\n",
    "sys.path.insert(0, '/home/joe/github/caffe-4-17/caffe/python/')\n",
    "\n",
    "import caffe\n",
    "\n",
    "net = caffe.Net('pooling.prototxt', caffe.TEST)"
   ]
  },
  {
   "cell_type": "code",
   "execution_count": 95,
   "metadata": {
    "collapsed": false
   },
   "outputs": [
    {
     "data": {
      "text/plain": [
       "[]"
      ]
     },
     "execution_count": 95,
     "metadata": {},
     "output_type": "execute_result"
    }
   ],
   "source": [
    "net.params.keys()"
   ]
  },
  {
   "cell_type": "code",
   "execution_count": 96,
   "metadata": {
    "collapsed": false,
    "scrolled": true
   },
   "outputs": [],
   "source": [
    "net.params.items()\n",
    "for k,v in net.params.items():\n",
    "    print k\n",
    "    print net.params[k][0].data.shape\n",
    "    # print type(net.params[k][0].data)\n",
    "    print net.params[k][1].data.shape"
   ]
  },
  {
   "cell_type": "code",
   "execution_count": 97,
   "metadata": {
    "collapsed": false
   },
   "outputs": [
    {
     "name": "stdout",
     "output_type": "stream",
     "text": [
      "x\n",
      "(1, 1, 3, 3)\n",
      "pool1\n",
      "(1, 1, 2, 2)\n"
     ]
    }
   ],
   "source": [
    "for k,v in net.blobs.items():\n",
    "    print k\n",
    "    print net.blobs[k].data.shape\n",
    "    # print type(net.params[k][0].data)"
   ]
  },
  {
   "cell_type": "code",
   "execution_count": null,
   "metadata": {
    "collapsed": true
   },
   "outputs": [],
   "source": []
  }
 ],
 "metadata": {
  "kernelspec": {
   "display_name": "Python 2",
   "language": "python",
   "name": "python2"
  },
  "language_info": {
   "codemirror_mode": {
    "name": "ipython",
    "version": 2
   },
   "file_extension": ".py",
   "mimetype": "text/x-python",
   "name": "python",
   "nbconvert_exporter": "python",
   "pygments_lexer": "ipython2",
   "version": "2.7.11"
  }
 },
 "nbformat": 4,
 "nbformat_minor": 0
}
